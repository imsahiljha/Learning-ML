{
 "cells": [
  {
   "cell_type": "code",
   "execution_count": 2,
   "id": "b8b52d38",
   "metadata": {},
   "outputs": [
    {
     "name": "stdout",
     "output_type": "stream",
     "text": [
      "1\n",
      "2\n",
      "3\n",
      "4\n",
      "5\n",
      "6\n",
      "7\n",
      "8\n",
      "9\n",
      "10\n"
     ]
    }
   ],
   "source": [
    "#print a list of n numbers\n",
    "#method 1\n",
    "i=1\n",
    "while i<=10:\n",
    "    print(i)\n",
    "    i+=1"
   ]
  },
  {
   "cell_type": "code",
   "execution_count": 3,
   "id": "dd92db00",
   "metadata": {},
   "outputs": [
    {
     "name": "stdout",
     "output_type": "stream",
     "text": [
      "0\n",
      "1\n",
      "2\n",
      "3\n",
      "4\n",
      "5\n",
      "6\n",
      "7\n",
      "8\n",
      "9\n"
     ]
    }
   ],
   "source": [
    "#method 2\n",
    "for i in range(10):\n",
    "    print(i)"
   ]
  },
  {
   "cell_type": "code",
   "execution_count": 4,
   "id": "bfad1aa0",
   "metadata": {},
   "outputs": [
    {
     "name": "stdout",
     "output_type": "stream",
     "text": [
      "1\n",
      "2\n",
      "3\n",
      "4\n",
      "5\n",
      "6\n",
      "7\n",
      "8\n",
      "9\n"
     ]
    }
   ],
   "source": [
    "for i in range(1,10):\n",
    "    print(i)"
   ]
  },
  {
   "cell_type": "code",
   "execution_count": 5,
   "id": "ac8e3916",
   "metadata": {},
   "outputs": [
    {
     "data": {
      "text/plain": [
       "[10]"
      ]
     },
     "execution_count": 5,
     "metadata": {},
     "output_type": "execute_result"
    }
   ],
   "source": [
    "list=[]\n",
    "list.append(10)\n",
    "list"
   ]
  },
  {
   "cell_type": "code",
   "execution_count": 8,
   "id": "eb5f9c96",
   "metadata": {},
   "outputs": [
    {
     "data": {
      "text/plain": [
       "[10, 20, 20, 20]"
      ]
     },
     "execution_count": 8,
     "metadata": {},
     "output_type": "execute_result"
    }
   ],
   "source": [
    "list.append(20)\n",
    "list"
   ]
  },
  {
   "cell_type": "code",
   "execution_count": 9,
   "id": "6e76704f",
   "metadata": {},
   "outputs": [],
   "source": [
    "list=[]"
   ]
  },
  {
   "cell_type": "code",
   "execution_count": 12,
   "id": "605510c4",
   "metadata": {},
   "outputs": [],
   "source": [
    "list.append(20)"
   ]
  },
  {
   "cell_type": "code",
   "execution_count": 13,
   "id": "f9910a74",
   "metadata": {},
   "outputs": [
    {
     "data": {
      "text/plain": [
       "[30, 20]"
      ]
     },
     "execution_count": 13,
     "metadata": {},
     "output_type": "execute_result"
    }
   ],
   "source": [
    "list\n"
   ]
  },
  {
   "cell_type": "code",
   "execution_count": 14,
   "id": "4087835f",
   "metadata": {},
   "outputs": [
    {
     "data": {
      "text/plain": [
       "[30]"
      ]
     },
     "execution_count": 14,
     "metadata": {},
     "output_type": "execute_result"
    }
   ],
   "source": [
    "#pop se last element delete hota hai\n",
    "list.pop()\n",
    "list"
   ]
  },
  {
   "cell_type": "code",
   "execution_count": 15,
   "id": "6a27da95",
   "metadata": {},
   "outputs": [
    {
     "data": {
      "text/plain": [
       "[]"
      ]
     },
     "execution_count": 15,
     "metadata": {},
     "output_type": "execute_result"
    }
   ],
   "source": [
    "list.pop()\n",
    "list"
   ]
  },
  {
   "cell_type": "code",
   "execution_count": 17,
   "id": "a4698937",
   "metadata": {},
   "outputs": [],
   "source": [
    "list.append(40)\n",
    "list.append(\"innogeeks\")"
   ]
  },
  {
   "cell_type": "code",
   "execution_count": 18,
   "id": "e97fa835",
   "metadata": {},
   "outputs": [
    {
     "data": {
      "text/plain": [
       "[40, 'innogeeks']"
      ]
     },
     "execution_count": 18,
     "metadata": {},
     "output_type": "execute_result"
    }
   ],
   "source": [
    "list"
   ]
  },
  {
   "cell_type": "code",
   "execution_count": 19,
   "id": "57093ee2",
   "metadata": {},
   "outputs": [],
   "source": [
    "list.append(20)"
   ]
  },
  {
   "cell_type": "code",
   "execution_count": 20,
   "id": "6d6ae000",
   "metadata": {},
   "outputs": [
    {
     "data": {
      "text/plain": [
       "[40, 'innogeeks', 20]"
      ]
     },
     "execution_count": 20,
     "metadata": {},
     "output_type": "execute_result"
    }
   ],
   "source": [
    "list"
   ]
  },
  {
   "cell_type": "code",
   "execution_count": 21,
   "id": "4455c516",
   "metadata": {},
   "outputs": [
    {
     "data": {
      "text/plain": [
       "20"
      ]
     },
     "execution_count": 21,
     "metadata": {},
     "output_type": "execute_result"
    }
   ],
   "source": [
    "list.pop(2)"
   ]
  },
  {
   "cell_type": "code",
   "execution_count": 22,
   "id": "3a2be395",
   "metadata": {},
   "outputs": [
    {
     "data": {
      "text/plain": [
       "[40, 'innogeeks']"
      ]
     },
     "execution_count": 22,
     "metadata": {},
     "output_type": "execute_result"
    }
   ],
   "source": [
    "list"
   ]
  },
  {
   "cell_type": "code",
   "execution_count": 23,
   "id": "31d7505b",
   "metadata": {},
   "outputs": [
    {
     "data": {
      "text/plain": [
       "[40, 'innogeeks', 20, 30]"
      ]
     },
     "execution_count": 23,
     "metadata": {},
     "output_type": "execute_result"
    }
   ],
   "source": [
    "list.append(20)\n",
    "list.append(30)\n",
    "list\n"
   ]
  },
  {
   "cell_type": "code",
   "execution_count": 24,
   "id": "fea399e9",
   "metadata": {},
   "outputs": [
    {
     "ename": "TypeError",
     "evalue": "'<' not supported between instances of 'str' and 'int'",
     "output_type": "error",
     "traceback": [
      "\u001b[1;31m---------------------------------------------------------------------------\u001b[0m",
      "\u001b[1;31mTypeError\u001b[0m                                 Traceback (most recent call last)",
      "\u001b[1;32m~\\AppData\\Local\\Temp\\ipykernel_9552\\1389050415.py\u001b[0m in \u001b[0;36m<module>\u001b[1;34m\u001b[0m\n\u001b[1;32m----> 1\u001b[1;33m \u001b[0mlist\u001b[0m\u001b[1;33m.\u001b[0m\u001b[0msort\u001b[0m\u001b[1;33m(\u001b[0m\u001b[1;33m)\u001b[0m\u001b[1;33m\u001b[0m\u001b[1;33m\u001b[0m\u001b[0m\n\u001b[0m",
      "\u001b[1;31mTypeError\u001b[0m: '<' not supported between instances of 'str' and 'int'"
     ]
    }
   ],
   "source": [
    "list.sort()"
   ]
  },
  {
   "cell_type": "code",
   "execution_count": 25,
   "id": "e12f7e71",
   "metadata": {},
   "outputs": [
    {
     "data": {
      "text/plain": [
       "'innogeeks'"
      ]
     },
     "execution_count": 25,
     "metadata": {},
     "output_type": "execute_result"
    }
   ],
   "source": [
    "#error aaya because data type same nahi hai list ke elements ka\n",
    "list.pop(1)"
   ]
  },
  {
   "cell_type": "code",
   "execution_count": 26,
   "id": "e8b1c368",
   "metadata": {},
   "outputs": [
    {
     "data": {
      "text/plain": [
       "[40, 20, 30]"
      ]
     },
     "execution_count": 26,
     "metadata": {},
     "output_type": "execute_result"
    }
   ],
   "source": [
    "list\n"
   ]
  },
  {
   "cell_type": "code",
   "execution_count": 27,
   "id": "48de9814",
   "metadata": {},
   "outputs": [],
   "source": [
    "#sort se acsending order me arrange hota hai\n",
    "list.sort()"
   ]
  },
  {
   "cell_type": "code",
   "execution_count": 28,
   "id": "9593d290",
   "metadata": {},
   "outputs": [
    {
     "data": {
      "text/plain": [
       "[20, 30, 40]"
      ]
     },
     "execution_count": 28,
     "metadata": {},
     "output_type": "execute_result"
    }
   ],
   "source": [
    "list\n"
   ]
  },
  {
   "cell_type": "code",
   "execution_count": 29,
   "id": "b9a43df4",
   "metadata": {},
   "outputs": [
    {
     "data": {
      "text/plain": [
       "[40, 30, 20]"
      ]
     },
     "execution_count": 29,
     "metadata": {},
     "output_type": "execute_result"
    }
   ],
   "source": [
    "#for decsending order\n",
    "list.sort(reverse=True)\n",
    "list"
   ]
  },
  {
   "cell_type": "code",
   "execution_count": 30,
   "id": "dce03a24",
   "metadata": {},
   "outputs": [],
   "source": [
    "list2=[]"
   ]
  },
  {
   "cell_type": "code",
   "execution_count": 33,
   "id": "133d7f78",
   "metadata": {},
   "outputs": [
    {
     "data": {
      "text/plain": [
       "['anajaneya', 'divyanshu', 'sahil', 'shikhar', 'tushar']"
      ]
     },
     "execution_count": 33,
     "metadata": {},
     "output_type": "execute_result"
    }
   ],
   "source": [
    "list2=[\"sahil\",\"anajaneya\",\"tushar\",\"shikhar\",\"divyanshu\"]\n",
    "list2.sort()\n",
    "list2"
   ]
  },
  {
   "cell_type": "code",
   "execution_count": 35,
   "id": "b645f7aa",
   "metadata": {},
   "outputs": [
    {
     "data": {
      "text/plain": [
       "['sahil', 'tushar', 'shikhar', 'anajaneya', 'divyanshu']"
      ]
     },
     "execution_count": 35,
     "metadata": {},
     "output_type": "execute_result"
    }
   ],
   "source": [
    "#lenth wise arrange karne ke liye 'len'ka use karte hain\n",
    "list2.sort(key=len)\n",
    "list2"
   ]
  },
  {
   "cell_type": "code",
   "execution_count": 36,
   "id": "bf8b2ce9",
   "metadata": {},
   "outputs": [
    {
     "data": {
      "text/plain": [
       "[1, 4, 9, 16, 25, 36, 49, 64, 81, 100]"
      ]
     },
     "execution_count": 36,
     "metadata": {},
     "output_type": "execute_result"
    }
   ],
   "source": [
    "#WAP to add values of squares of numbers form 1 to 10\n",
    "list3=[]\n",
    "for i in range(1,11):\n",
    "    list3.append(i**2)\n",
    "list3"
   ]
  },
  {
   "cell_type": "code",
   "execution_count": 39,
   "id": "4c848ca5",
   "metadata": {},
   "outputs": [
    {
     "data": {
      "text/plain": [
       "[1, 8, 27, 64, 125, 216, 343, 512, 729, 1000]"
      ]
     },
     "execution_count": 39,
     "metadata": {},
     "output_type": "execute_result"
    }
   ],
   "source": [
    "#generalising [also known as list comprehension]\n",
    "list3=[x**3 for x in range(1,11)]\n",
    "list3"
   ]
  },
  {
   "cell_type": "code",
   "execution_count": 60,
   "id": "1d948bbb",
   "metadata": {},
   "outputs": [
    {
     "data": {
      "text/plain": [
       "[(1, 4), (1, 5), (1, 6), (2, 4), (2, 5), (2, 6), (3, 4), (3, 5), (3, 6)]"
      ]
     },
     "execution_count": 60,
     "metadata": {},
     "output_type": "execute_result"
    }
   ],
   "source": [
    "l1=[1,2,3]\n",
    "l2=[4,5,6]\n",
    "list=[]\n",
    "for i in l1:\n",
    "    for j in l2:\n",
    "        list.append((i,j))\n",
    "list"
   ]
  },
  {
   "cell_type": "code",
   "execution_count": 41,
   "id": "36582813",
   "metadata": {},
   "outputs": [
    {
     "data": {
      "text/plain": [
       "[(1, 4), (1, 5), (1, 6), (2, 4), (2, 5), (2, 6), (3, 4), (3, 5), (3, 6)]"
      ]
     },
     "execution_count": 41,
     "metadata": {},
     "output_type": "execute_result"
    }
   ],
   "source": [
    "list=[(x,y) for x in l1 for y in l2]\n",
    "list"
   ]
  },
  {
   "cell_type": "code",
   "execution_count": 42,
   "id": "e43b16b9",
   "metadata": {},
   "outputs": [
    {
     "data": {
      "text/plain": [
       "3"
      ]
     },
     "execution_count": 42,
     "metadata": {},
     "output_type": "execute_result"
    }
   ],
   "source": [
    "a=[[1,2,3],[4,5,6],[7,8,9]]\n",
    "len(a)"
   ]
  },
  {
   "cell_type": "code",
   "execution_count": 47,
   "id": "4095112a",
   "metadata": {},
   "outputs": [
    {
     "data": {
      "text/plain": [
       "8"
      ]
     },
     "execution_count": 47,
     "metadata": {},
     "output_type": "execute_result"
    }
   ],
   "source": [
    "a[2][1]"
   ]
  },
  {
   "cell_type": "code",
   "execution_count": 48,
   "id": "dc98b70f",
   "metadata": {},
   "outputs": [],
   "source": [
    "# hw: make a matrix using loops"
   ]
  },
  {
   "cell_type": "code",
   "execution_count": 51,
   "id": "306d8a1e",
   "metadata": {},
   "outputs": [
    {
     "data": {
      "text/plain": [
       "'sahil'"
      ]
     },
     "execution_count": 51,
     "metadata": {},
     "output_type": "execute_result"
    }
   ],
   "source": [
    "#dictionary\n",
    "dict={143:\"sahil\",242:\"anju\"}\n",
    "dict[143]"
   ]
  },
  {
   "cell_type": "code",
   "execution_count": 52,
   "id": "898ecf95",
   "metadata": {},
   "outputs": [
    {
     "data": {
      "text/plain": [
       "dict_items([(143, 'sahil'), (242, 'anju')])"
      ]
     },
     "execution_count": 52,
     "metadata": {},
     "output_type": "execute_result"
    }
   ],
   "source": [
    "dict.items()"
   ]
  },
  {
   "cell_type": "code",
   "execution_count": 53,
   "id": "fa3296a7",
   "metadata": {},
   "outputs": [],
   "source": [
    "#isme kanishk ko key bana diya aur list1 assign kar di toh jab bhi dict me 'kanishk' key access karenege toh list1 ke saare\n",
    "#elements display honge\n",
    "list1=[\"webd\",\"ML\",\"backend\",\"cloud\",\"c\",\"c++\",\"python\",\"go\",\"rust\"]\n",
    "list2=[\"doctor\",\"engineer\",\"sci\",\"teacher\"]\n",
    "dict={\"kanishk\":list1,\"jhonny sins\":list2}"
   ]
  },
  {
   "cell_type": "code",
   "execution_count": 54,
   "id": "15c3e4bc",
   "metadata": {},
   "outputs": [
    {
     "data": {
      "text/plain": [
       "['webd', 'ML', 'backend', 'cloud', 'c', 'c++', 'python', 'go', 'rust']"
      ]
     },
     "execution_count": 54,
     "metadata": {},
     "output_type": "execute_result"
    }
   ],
   "source": [
    "dict[\"kanishk\"]"
   ]
  },
  {
   "cell_type": "code",
   "execution_count": 56,
   "id": "7d248d51",
   "metadata": {},
   "outputs": [
    {
     "name": "stdout",
     "output_type": "stream",
     "text": [
      "143 sahil\n",
      "233 anju\n"
     ]
    }
   ],
   "source": [
    "dict={143:\"sahil\",233:\"anju\"}\n",
    "for keys,values in dict.items():\n",
    "    print(keys,values)"
   ]
  },
  {
   "cell_type": "code",
   "execution_count": 61,
   "id": "86c5c604",
   "metadata": {},
   "outputs": [
    {
     "name": "stdout",
     "output_type": "stream",
     "text": [
      "your age is 10\n"
     ]
    }
   ],
   "source": [
    "a=10\n",
    "print(f\"your age is {a}\")"
   ]
  },
  {
   "cell_type": "code",
   "execution_count": 6,
   "id": "e553b3ca",
   "metadata": {},
   "outputs": [
    {
     "ename": "SyntaxError",
     "evalue": "invalid syntax (1898700824.py, line 2)",
     "output_type": "error",
     "traceback": [
      "\u001b[1;36m  File \u001b[1;32m\"C:\\Users\\Yatendra\\AppData\\Local\\Temp\\ipykernel_11644\\1898700824.py\"\u001b[1;36m, line \u001b[1;32m2\u001b[0m\n\u001b[1;33m    int input(n)\u001b[0m\n\u001b[1;37m        ^\u001b[0m\n\u001b[1;31mSyntaxError\u001b[0m\u001b[1;31m:\u001b[0m invalid syntax\n"
     ]
    }
   ],
   "source": [
    "print(\"enter number of rows\")\n",
    "input(n)\n",
    "print(\"enter number of columns\")\n",
    "int input(m)\n",
    "list5=[]\n",
    "for i in range(f\"\n",
    "    for j in range(m):\n",
    "        list5.append((i,j))\n",
    "list5"
   ]
  },
  {
   "cell_type": "code",
   "execution_count": 7,
   "id": "2707fbd0",
   "metadata": {},
   "outputs": [
    {
     "ename": "TypeError",
     "evalue": "descriptor 'append' for 'list' objects doesn't apply to a 'int' object",
     "output_type": "error",
     "traceback": [
      "\u001b[1;31m---------------------------------------------------------------------------\u001b[0m",
      "\u001b[1;31mTypeError\u001b[0m                                 Traceback (most recent call last)",
      "\u001b[1;32m~\\AppData\\Local\\Temp\\ipykernel_11644\\2029058529.py\u001b[0m in \u001b[0;36m<module>\u001b[1;34m\u001b[0m\n\u001b[1;32m----> 1\u001b[1;33m \u001b[0mlist\u001b[0m\u001b[1;33m.\u001b[0m\u001b[0mappend\u001b[0m\u001b[1;33m(\u001b[0m\u001b[1;36m10\u001b[0m\u001b[1;33m)\u001b[0m\u001b[1;33m\u001b[0m\u001b[1;33m\u001b[0m\u001b[0m\n\u001b[0m\u001b[0;32m      2\u001b[0m \u001b[0mlist\u001b[0m\u001b[1;33m\u001b[0m\u001b[1;33m\u001b[0m\u001b[0m\n",
      "\u001b[1;31mTypeError\u001b[0m: descriptor 'append' for 'list' objects doesn't apply to a 'int' object"
     ]
    }
   ],
   "source": [
    "list.append(10)\n",
    "list"
   ]
  },
  {
   "cell_type": "code",
   "execution_count": null,
   "id": "d5928044",
   "metadata": {},
   "outputs": [],
   "source": []
  }
 ],
 "metadata": {
  "kernelspec": {
   "display_name": "Python 3 (ipykernel)",
   "language": "python",
   "name": "python3"
  },
  "language_info": {
   "codemirror_mode": {
    "name": "ipython",
    "version": 3
   },
   "file_extension": ".py",
   "mimetype": "text/x-python",
   "name": "python",
   "nbconvert_exporter": "python",
   "pygments_lexer": "ipython3",
   "version": "3.9.13"
  }
 },
 "nbformat": 4,
 "nbformat_minor": 5
}
