{
 "cells": [
  {
   "cell_type": "code",
   "execution_count": 4,
   "id": "27766cea",
   "metadata": {},
   "outputs": [
    {
     "name": "stdout",
     "output_type": "stream",
     "text": [
      "a is smaller than b\n",
      "machine learning\n"
     ]
    }
   ],
   "source": [
    "a=38\n",
    "b=87\n",
    "if a>b:\n",
    "    print(\"a is greater than b\")\n",
    "elif a==b:\n",
    "    print(\"a is equal to b\")\n",
    "else:\n",
    "    print(\"a is smaller than b\")\n",
    "print(\"machine learning\")"
   ]
  },
  {
   "cell_type": "code",
   "execution_count": 5,
   "id": "fcc744f7",
   "metadata": {},
   "outputs": [
    {
     "name": "stdout",
     "output_type": "stream",
     "text": [
      "we are going right\n"
     ]
    }
   ],
   "source": [
    "a=200\n",
    "b=300\n",
    "c=300\n",
    "if a<b and b==c:\n",
    "    print(\"we are going right\")"
   ]
  },
  {
   "cell_type": "code",
   "execution_count": 10,
   "id": "44013bf3",
   "metadata": {},
   "outputs": [
    {
     "name": "stdout",
     "output_type": "stream",
     "text": [
      "200\n",
      "more than 10\n",
      "more than 100\n"
     ]
    }
   ],
   "source": [
    "input(a)\n",
    "if a>10:\n",
    "    print(\"more than 10\")\n",
    "    if a>100:\n",
    "        print(\"more than 100\")\n",
    "    else:\n",
    "        print(\"above 10 but less than 100\")\n",
    "else:\n",
    "    print(\"less than 10\")"
   ]
  },
  {
   "cell_type": "code",
   "execution_count": 8,
   "id": "d22c42f7",
   "metadata": {},
   "outputs": [
    {
     "data": {
      "text/plain": [
       "int"
      ]
     },
     "execution_count": 8,
     "metadata": {},
     "output_type": "execute_result"
    }
   ],
   "source": [
    "type(a)"
   ]
  },
  {
   "cell_type": "code",
   "execution_count": 17,
   "id": "4d56a2e1",
   "metadata": {},
   "outputs": [
    {
     "name": "stdout",
     "output_type": "stream",
     "text": [
      "3431\n",
      "2342\n",
      "43345\n",
      "c is the greatest\n"
     ]
    }
   ],
   "source": [
    "input(a)\n",
    "input(b)\n",
    "input(c)\n",
    "if a>b:\n",
    "    if a>c:\n",
    "        print('a is the greatest')\n",
    "    else:\n",
    "        print('c is the greatest')\n",
    "else:\n",
    "    if b>c:\n",
    "        print('b is greatest')\n",
    "    else:\n",
    "        print('c is greatest')"
   ]
  },
  {
   "cell_type": "code",
   "execution_count": 18,
   "id": "9d309829",
   "metadata": {},
   "outputs": [],
   "source": [
    "#loops\n",
    "#while loops\n"
   ]
  },
  {
   "cell_type": "code",
   "execution_count": 20,
   "id": "4d319ed4",
   "metadata": {},
   "outputs": [
    {
     "name": "stdout",
     "output_type": "stream",
     "text": [
      "1\n",
      "2\n",
      "3\n",
      "4\n",
      "5\n"
     ]
    }
   ],
   "source": [
    "i=1\n",
    "while i<6:\n",
    "    print(i)\n",
    "    i+=1"
   ]
  },
  {
   "cell_type": "code",
   "execution_count": null,
   "id": "872d799e",
   "metadata": {},
   "outputs": [],
   "source": []
  }
 ],
 "metadata": {
  "kernelspec": {
   "display_name": "Python 3 (ipykernel)",
   "language": "python",
   "name": "python3"
  },
  "language_info": {
   "codemirror_mode": {
    "name": "ipython",
    "version": 3
   },
   "file_extension": ".py",
   "mimetype": "text/x-python",
   "name": "python",
   "nbconvert_exporter": "python",
   "pygments_lexer": "ipython3",
   "version": "3.9.13"
  }
 },
 "nbformat": 4,
 "nbformat_minor": 5
}
