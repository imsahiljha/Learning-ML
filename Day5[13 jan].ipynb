{
 "cells": [
  {
   "cell_type": "code",
   "execution_count": 1,
   "id": "507530f1",
   "metadata": {},
   "outputs": [],
   "source": [
    "def add(a,b):\n",
    "    print(a+b)"
   ]
  },
  {
   "cell_type": "code",
   "execution_count": 2,
   "id": "e69d7b87",
   "metadata": {},
   "outputs": [
    {
     "name": "stdout",
     "output_type": "stream",
     "text": [
      "54\n"
     ]
    }
   ],
   "source": [
    "add(13,41)"
   ]
  },
  {
   "cell_type": "code",
   "execution_count": 3,
   "id": "18442eda",
   "metadata": {},
   "outputs": [
    {
     "name": "stdout",
     "output_type": "stream",
     "text": [
      "27\n"
     ]
    }
   ],
   "source": [
    "add(13,14)"
   ]
  },
  {
   "cell_type": "code",
   "execution_count": 40,
   "id": "ead00754",
   "metadata": {},
   "outputs": [
    {
     "name": "stdout",
     "output_type": "stream",
     "text": [
      "enter a number\n",
      "enter a number15\n",
      "it is a composite number\n"
     ]
    }
   ],
   "source": [
    "#fuction to check whether a program is prime or not\n",
    "print('enter a number')\n",
    "a=int(input(\"enter a number\"))\n",
    "for i in range(2,a):\n",
    "    if(a%i==0):\n",
    "        print(\"it is a composite number\")  \n",
    "        c=1\n",
    "        break\n",
    "if(c==0):\n",
    "    print(\"it is a prime number\")\n",
    "    "
   ]
  },
  {
   "cell_type": "code",
   "execution_count": 11,
   "id": "1f1cabea",
   "metadata": {},
   "outputs": [
    {
     "name": "stdout",
     "output_type": "stream",
     "text": [
      "enter range=100\n",
      "2\n",
      "3\n",
      "5\n",
      "7\n",
      "11\n",
      "13\n",
      "17\n",
      "19\n",
      "23\n",
      "29\n",
      "31\n",
      "37\n",
      "41\n",
      "43\n",
      "47\n",
      "53\n",
      "59\n",
      "61\n",
      "67\n",
      "71\n",
      "73\n",
      "79\n",
      "83\n",
      "89\n",
      "97\n"
     ]
    }
   ],
   "source": [
    "#print all the prime numbers in a given range\n",
    "a=int(input(\"enter range=\"))\n",
    "print(\"2\")\n",
    "for i in range(3,a):\n",
    "    c=0\n",
    "    for j in range(2,i):\n",
    "        if(i%j==0):\n",
    "            c=1\n",
    "            break\n",
    "    if(c==0):\n",
    "        print(i)"
   ]
  },
  {
   "cell_type": "code",
   "execution_count": 3,
   "id": "38648134",
   "metadata": {
    "scrolled": true
   },
   "outputs": [
    {
     "name": "stdout",
     "output_type": "stream",
     "text": [
      "enter range1\n",
      "invalid range\n"
     ]
    }
   ],
   "source": [
    "n=int(input(\"enter range=\"))\n",
    "if(n<3):\n",
    "    print(\"invalid range\")\n",
    "else:\n",
    "    for i in range(3,n):\n",
    "        c=0\n",
    "        for j in range(2,i):\n",
    "            if(i%j==0):\n",
    "                c=1\n",
    "                break\n",
    "    if(c==0):\n",
    "         print(f\"{i} is a prime number\")"
   ]
  },
  {
   "cell_type": "code",
   "execution_count": null,
   "id": "9da1a69d",
   "metadata": {},
   "outputs": [],
   "source": []
  }
 ],
 "metadata": {
  "kernelspec": {
   "display_name": "Python 3 (ipykernel)",
   "language": "python",
   "name": "python3"
  },
  "language_info": {
   "codemirror_mode": {
    "name": "ipython",
    "version": 3
   },
   "file_extension": ".py",
   "mimetype": "text/x-python",
   "name": "python",
   "nbconvert_exporter": "python",
   "pygments_lexer": "ipython3",
   "version": "3.9.13"
  }
 },
 "nbformat": 4,
 "nbformat_minor": 5
}
